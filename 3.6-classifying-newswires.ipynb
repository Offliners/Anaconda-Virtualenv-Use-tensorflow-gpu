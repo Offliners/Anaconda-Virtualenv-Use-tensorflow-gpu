{
  "nbformat": 4,
  "nbformat_minor": 0,
  "metadata": {
    "colab": {
      "name": "Untitled1.ipynb",
      "provenance": [],
      "authorship_tag": "ABX9TyMXzplqSfLOK5Ilp8rZoA57",
      "include_colab_link": true
    },
    "kernelspec": {
      "name": "python3",
      "display_name": "Python 3"
    }
  },
  "cells": [
    {
      "cell_type": "markdown",
      "metadata": {
        "id": "view-in-github",
        "colab_type": "text"
      },
      "source": [
        "<a href=\"https://colab.research.google.com/github/Offliners/Anaconda-Virtualenv-Use-tensorflow-gpu/blob/master/3.6-classifying-newswires.ipynb\" target=\"_parent\"><img src=\"https://colab.research.google.com/assets/colab-badge.svg\" alt=\"Open In Colab\"/></a>"
      ]
    },
    {
      "cell_type": "markdown",
      "metadata": {
        "id": "fPDpZm3vm35P"
      },
      "source": [
        "**載入路透社資料集**"
      ]
    },
    {
      "cell_type": "code",
      "metadata": {
        "colab": {
          "base_uri": "https://localhost:8080/"
        },
        "id": "jqPvlzTOm0il",
        "outputId": "fc679169-4669-4111-98a0-c672026e58ca"
      },
      "source": [
        "from keras.datasets import reuters  # 從keras.datasets套件中匯入reuters資料集\r\n",
        "\r\n",
        "(train_data, train_labels), (test_data, test_labels) = reuters.load_data(num_words=10000)  # 從reuters資料集中讀取訓練資料、訓練標籤、測試資料、測試標籤"
      ],
      "execution_count": 65,
      "outputs": [
        {
          "output_type": "stream",
          "text": [
            "/usr/local/lib/python3.6/dist-packages/tensorflow/python/keras/datasets/reuters.py:148: VisibleDeprecationWarning: Creating an ndarray from ragged nested sequences (which is a list-or-tuple of lists-or-tuples-or ndarrays with different lengths or shapes) is deprecated. If you meant to do this, you must specify 'dtype=object' when creating the ndarray\n",
            "  x_train, y_train = np.array(xs[:idx]), np.array(labels[:idx])\n",
            "/usr/local/lib/python3.6/dist-packages/tensorflow/python/keras/datasets/reuters.py:149: VisibleDeprecationWarning: Creating an ndarray from ragged nested sequences (which is a list-or-tuple of lists-or-tuples-or ndarrays with different lengths or shapes) is deprecated. If you meant to do this, you must specify 'dtype=object' when creating the ndarray\n",
            "  x_test, y_test = np.array(xs[idx:]), np.array(labels[idx:])\n"
          ],
          "name": "stderr"
        }
      ]
    },
    {
      "cell_type": "markdown",
      "metadata": {
        "id": "sfXy_AN-orbh"
      },
      "source": [
        "**回到文字解碼新聞專欄**"
      ]
    },
    {
      "cell_type": "code",
      "metadata": {
        "id": "yE2zknlTov7V"
      },
      "source": [
        "word_index = reuters.get_word_index()\r\n",
        "reverse_word_index = dict([(value, key) for (value, key) in word_index.items()])\r\n",
        "\r\n",
        "# 這些索引值有位移3個位置，因為0，1與2分別是保留索引值，代表「填補」、「開始位置」與「未知」\r\n",
        "decoded_newwire = ' '.join([reverse_word_index.get(i - 3, '?') for i in train_data[0]])"
      ],
      "execution_count": 66,
      "outputs": []
    },
    {
      "cell_type": "markdown",
      "metadata": {
        "id": "HYu3l-wVrfxQ"
      },
      "source": [
        "**將資料加以編碼**"
      ]
    },
    {
      "cell_type": "code",
      "metadata": {
        "id": "gMNI4ok6rjXy"
      },
      "source": [
        "import numpy as np\r\n",
        "\r\n",
        "def vectorize_sequences(sequences, dimension=10000):\r\n",
        "  results = np.zeros((len(sequences), dimension))\r\n",
        "\r\n",
        "  for i, sequence in enumerate(sequences):\r\n",
        "    results[i, sequence] = 1.  # 進行one-hot編碼\r\n",
        "  \r\n",
        "  return results\r\n",
        "\r\n",
        "x_train = vectorize_sequences(train_data)  # 將訓練資料向量化\r\n",
        "x_test = vectorize_sequences(test_data)  # 將測試資料向\r\n",
        "\r\n",
        "from keras.utils.np_utils import to_categorical\r\n",
        "\r\n",
        "one_hot_train_labels = to_categorical(train_labels)\r\n",
        "one_hot_test_labels = to_categorical(test_labels)"
      ],
      "execution_count": 67,
      "outputs": []
    },
    {
      "cell_type": "markdown",
      "metadata": {
        "id": "xjoI_oRYr8Qk"
      },
      "source": [
        "**模型定義**"
      ]
    },
    {
      "cell_type": "code",
      "metadata": {
        "id": "EHGX65Qsr-tp"
      },
      "source": [
        "from keras import models\r\n",
        "from keras import layers\r\n",
        "\r\n",
        "model = models.Sequential()\r\n",
        "model.add(layers.Dense(64, activation='relu', input_shape=(10000,)))\r\n",
        "model.add(layers.Dense(64, activation='relu'))\r\n",
        "model.add(layers.Dense(46, activation='softmax'))"
      ],
      "execution_count": 68,
      "outputs": []
    },
    {
      "cell_type": "markdown",
      "metadata": {
        "id": "p2j_H6sztEfe"
      },
      "source": [
        "**編譯模型**"
      ]
    },
    {
      "cell_type": "code",
      "metadata": {
        "id": "1d90mwxRtG7L"
      },
      "source": [
        "model.compile(optimizer='rmsprop',\r\n",
        "              loss='categorical_crossentropy',\r\n",
        "              metrics=['acc'])"
      ],
      "execution_count": 69,
      "outputs": []
    },
    {
      "cell_type": "markdown",
      "metadata": {
        "id": "4-EEjy63tToM"
      },
      "source": [
        "**切片驗證資料集**"
      ]
    },
    {
      "cell_type": "code",
      "metadata": {
        "id": "nbj_JnvjtWgo"
      },
      "source": [
        "x_val = x_train[:1000]\r\n",
        "partical_x_train = x_train[1000:]\r\n",
        "\r\n",
        "y_val = one_hot_train_labels[:1000]\r\n",
        "partical_y_train = one_hot_train_labels[1000:]"
      ],
      "execution_count": 70,
      "outputs": []
    },
    {
      "cell_type": "markdown",
      "metadata": {
        "id": "d1sqe1hsvmSp"
      },
      "source": [
        "**訓練模型**"
      ]
    },
    {
      "cell_type": "code",
      "metadata": {
        "colab": {
          "base_uri": "https://localhost:8080/"
        },
        "id": "oee3wxPdvnnh",
        "outputId": "fa2e23b7-e64a-4c9b-8368-026f68119c89"
      },
      "source": [
        "history = model.fit(partical_x_train,\r\n",
        "                    partical_y_train,\r\n",
        "                    epochs=20,\r\n",
        "                    batch_size=512,\r\n",
        "                    validation_data=(x_val, y_val))"
      ],
      "execution_count": 71,
      "outputs": [
        {
          "output_type": "stream",
          "text": [
            "Epoch 1/20\n",
            "16/16 [==============================] - 2s 66ms/step - loss: 3.0403 - acc: 0.4578 - val_loss: 1.6454 - val_acc: 0.6720\n",
            "Epoch 2/20\n",
            "16/16 [==============================] - 1s 49ms/step - loss: 1.4315 - acc: 0.7119 - val_loss: 1.2933 - val_acc: 0.7160\n",
            "Epoch 3/20\n",
            "16/16 [==============================] - 1s 50ms/step - loss: 1.0677 - acc: 0.7700 - val_loss: 1.1453 - val_acc: 0.7470\n",
            "Epoch 4/20\n",
            "16/16 [==============================] - 1s 48ms/step - loss: 0.8426 - acc: 0.8123 - val_loss: 1.0508 - val_acc: 0.7750\n",
            "Epoch 5/20\n",
            "16/16 [==============================] - 1s 60ms/step - loss: 0.6643 - acc: 0.8586 - val_loss: 0.9885 - val_acc: 0.7860\n",
            "Epoch 6/20\n",
            "16/16 [==============================] - 1s 64ms/step - loss: 0.5356 - acc: 0.8852 - val_loss: 0.9191 - val_acc: 0.8090\n",
            "Epoch 7/20\n",
            "16/16 [==============================] - 1s 51ms/step - loss: 0.4076 - acc: 0.9154 - val_loss: 0.9020 - val_acc: 0.8120\n",
            "Epoch 8/20\n",
            "16/16 [==============================] - 1s 48ms/step - loss: 0.3355 - acc: 0.9341 - val_loss: 0.8880 - val_acc: 0.8140\n",
            "Epoch 9/20\n",
            "16/16 [==============================] - 1s 51ms/step - loss: 0.2866 - acc: 0.9391 - val_loss: 0.9039 - val_acc: 0.8090\n",
            "Epoch 10/20\n",
            "16/16 [==============================] - 1s 62ms/step - loss: 0.2395 - acc: 0.9447 - val_loss: 0.9482 - val_acc: 0.8070\n",
            "Epoch 11/20\n",
            "16/16 [==============================] - 1s 62ms/step - loss: 0.2117 - acc: 0.9493 - val_loss: 0.9273 - val_acc: 0.8080\n",
            "Epoch 12/20\n",
            "16/16 [==============================] - 1s 56ms/step - loss: 0.1891 - acc: 0.9502 - val_loss: 0.9247 - val_acc: 0.8090\n",
            "Epoch 13/20\n",
            "16/16 [==============================] - 1s 49ms/step - loss: 0.1511 - acc: 0.9579 - val_loss: 0.9046 - val_acc: 0.8180\n",
            "Epoch 14/20\n",
            "16/16 [==============================] - 1s 50ms/step - loss: 0.1269 - acc: 0.9623 - val_loss: 0.9884 - val_acc: 0.8010\n",
            "Epoch 15/20\n",
            "16/16 [==============================] - 1s 50ms/step - loss: 0.1301 - acc: 0.9603 - val_loss: 0.9772 - val_acc: 0.8170\n",
            "Epoch 16/20\n",
            "16/16 [==============================] - 1s 50ms/step - loss: 0.1200 - acc: 0.9600 - val_loss: 1.0726 - val_acc: 0.8040\n",
            "Epoch 17/20\n",
            "16/16 [==============================] - 1s 50ms/step - loss: 0.1128 - acc: 0.9614 - val_loss: 0.9854 - val_acc: 0.8130\n",
            "Epoch 18/20\n",
            "16/16 [==============================] - 1s 51ms/step - loss: 0.1155 - acc: 0.9627 - val_loss: 1.0460 - val_acc: 0.8100\n",
            "Epoch 19/20\n",
            "16/16 [==============================] - 1s 72ms/step - loss: 0.1022 - acc: 0.9638 - val_loss: 1.0018 - val_acc: 0.8110\n",
            "Epoch 20/20\n",
            "16/16 [==============================] - 1s 62ms/step - loss: 0.0993 - acc: 0.9619 - val_loss: 1.0533 - val_acc: 0.8080\n"
          ],
          "name": "stdout"
        }
      ]
    },
    {
      "cell_type": "markdown",
      "metadata": {
        "id": "XytKXhqywpN1"
      },
      "source": [
        "**繪製訓練和驗證的損失圖**"
      ]
    },
    {
      "cell_type": "code",
      "metadata": {
        "colab": {
          "base_uri": "https://localhost:8080/",
          "height": 295
        },
        "id": "GGZy0UvPwtpr",
        "outputId": "eea67e40-d011-465f-cdb2-bb140494c2fe"
      },
      "source": [
        "import matplotlib.pyplot as plt\r\n",
        "\r\n",
        "loss_values = history.history['loss']\r\n",
        "val_loss_values = history.history['val_loss']\r\n",
        "\r\n",
        "epochs = range(1, len(loss_values) + 1)\r\n",
        "\r\n",
        "plt.plot(epochs, loss_values, 'bo', label='Training loss')\r\n",
        "plt.plot(epochs, val_loss_values, 'r', label='Validation loss')\r\n",
        "plt.title('Training and validation loss')\r\n",
        "plt.xlabel('Epochs')\r\n",
        "plt.ylabel('Loss')\r\n",
        "plt.legend()\r\n",
        "plt.grid()\r\n",
        "plt.show()"
      ],
      "execution_count": 72,
      "outputs": [
        {
          "output_type": "display_data",
          "data": {
            "image/png": "[encoded data removed]",
            "text/plain": [
              "<Figure size 432x288 with 1 Axes>"
            ]
          },
          "metadata": {
            "tags": [],
            "needs_background": "light"
          }
        }
      ]
    },
    {
      "cell_type": "markdown",
      "metadata": {
        "id": "xZ-QgptLw5qi"
      },
      "source": [
        "**繪製訓練和驗證的準確度**"
      ]
    },
    {
      "cell_type": "code",
      "metadata": {
        "colab": {
          "base_uri": "https://localhost:8080/",
          "height": 295
        },
        "id": "lzRD3sdpw89z",
        "outputId": "87cf085e-815b-4063-e4df-4bbc48ca67e5"
      },
      "source": [
        "plt.clf()\r\n",
        "acc = history.history['acc']\r\n",
        "val_acc = history.history['val_acc']\r\n",
        "\r\n",
        "plt.plot(epochs, acc, 'bo', label='Training acc')\r\n",
        "plt.plot(epochs, val_acc, 'r', label='Validation acc')\r\n",
        "plt.title('Training and validation accuracy')\r\n",
        "plt.xlabel('Epochs')\r\n",
        "plt.ylabel('Accuracy')\r\n",
        "plt.legend()\r\n",
        "plt.grid()\r\n",
        "plt.show()"
      ],
      "execution_count": 73,
      "outputs": [
        {
          "output_type": "display_data",
          "data": {
            "image/png": "[encoded data removed]",
            "text/plain": [
              "<Figure size 432x288 with 1 Axes>"
            ]
          },
          "metadata": {
            "tags": [],
            "needs_background": "light"
          }
        }
      ]
    },
    {
      "cell_type": "markdown",
      "metadata": {
        "id": "iZRD28D1zVP3"
      },
      "source": [
        "**從頭開始重新訓練模型**"
      ]
    },
    {
      "cell_type": "code",
      "metadata": {
        "colab": {
          "base_uri": "https://localhost:8080/"
        },
        "id": "Rpld7YBjzcpj",
        "outputId": "0b6f414d-5d18-4cd5-e3cb-f2692be25174"
      },
      "source": [
        "model = models.Sequential()\r\n",
        "model.add(layers.Dense(64, activation='relu', input_shape=(10000,)))\r\n",
        "model.add(layers.Dense(64, activation='relu'))\r\n",
        "model.add(layers.Dense(46, activation='softmax'))\r\n",
        "\r\n",
        "model.compile(optimizer='rmsprop',\r\n",
        "              loss='categorical_crossentropy',\r\n",
        "              metrics=['acc'])\r\n",
        "\r\n",
        "history = model.fit(partical_x_train,\r\n",
        "                     partical_y_train,\r\n",
        "                     epochs=9,\r\n",
        "                     batch_size=512,\r\n",
        "                     validation_data=(x_val, y_val))\r\n",
        "\r\n",
        "results = model.evaluate(x_test, one_hot_test_labels)\r\n",
        "\r\n",
        "print(results)"
      ],
      "execution_count": 74,
      "outputs": [
        {
          "output_type": "stream",
          "text": [
            "Epoch 1/9\n",
            "16/16 [==============================] - 1s 62ms/step - loss: 3.2179 - acc: 0.4230 - val_loss: 1.7832 - val_acc: 0.6440\n",
            "Epoch 2/9\n",
            "16/16 [==============================] - 1s 51ms/step - loss: 1.5105 - acc: 0.6996 - val_loss: 1.3036 - val_acc: 0.7200\n",
            "Epoch 3/9\n",
            "16/16 [==============================] - 1s 64ms/step - loss: 1.0929 - acc: 0.7588 - val_loss: 1.1290 - val_acc: 0.7560\n",
            "Epoch 4/9\n",
            "16/16 [==============================] - 1s 51ms/step - loss: 0.8300 - acc: 0.8220 - val_loss: 1.0471 - val_acc: 0.7710\n",
            "Epoch 5/9\n",
            "16/16 [==============================] - 1s 61ms/step - loss: 0.6755 - acc: 0.8519 - val_loss: 0.9643 - val_acc: 0.7990\n",
            "Epoch 6/9\n",
            "16/16 [==============================] - 1s 53ms/step - loss: 0.5260 - acc: 0.8890 - val_loss: 0.9278 - val_acc: 0.8130\n",
            "Epoch 7/9\n",
            "16/16 [==============================] - 1s 49ms/step - loss: 0.4319 - acc: 0.9066 - val_loss: 0.9097 - val_acc: 0.8140\n",
            "Epoch 8/9\n",
            "16/16 [==============================] - 1s 48ms/step - loss: 0.3395 - acc: 0.9291 - val_loss: 0.9136 - val_acc: 0.8120\n",
            "Epoch 9/9\n",
            "16/16 [==============================] - 1s 49ms/step - loss: 0.2787 - acc: 0.9401 - val_loss: 0.9146 - val_acc: 0.8160\n",
            "71/71 [==============================] - 0s 2ms/step - loss: 0.9933 - acc: 0.7823\n",
            "[0.9932671189308167, 0.7822796106338501]\n"
          ],
          "name": "stdout"
        }
      ]
    }
  ]
}